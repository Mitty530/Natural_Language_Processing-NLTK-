{
 "cells": [
  {
   "cell_type": "markdown",
   "metadata": {},
   "source": [
    "# Stem vs. Lemma vs. Lexeme\n",
    "#### A lemma is a word that stands at the head of a definition in a dictionary. All the head words in a dictionary are lemmas.\n",
    "#### A lexeme is a unit of meaning, and can be more than one word. A lexeme is the set of all forms that have the same meaning.\n",
    "#### In computational linguistics, a stem is the part of the word that never changes even when different forms of the word are used."
   ]
  },
  {
   "cell_type": "markdown",
   "metadata": {},
   "source": [
    "## Stemmers --> PorterStemmer"
   ]
  },
  {
   "cell_type": "code",
   "execution_count": 1,
   "metadata": {},
   "outputs": [
    {
     "name": "stdout",
     "output_type": "stream",
     "text": [
      "python\n",
      "python\n",
      "python\n",
      "python\n",
      "pythonli\n",
      "list\n",
      "list\n",
      "list\n",
      "list\n",
      "list\n"
     ]
    }
   ],
   "source": [
    "from nltk.stem import PorterStemmer\n",
    "from nltk.tokenize import word_tokenize\n",
    "\n",
    "ps = PorterStemmer()\n",
    "\n",
    "example_words1 = [\"python\", \"pythoner\", \"pythoning\", \"pythoned\", \"pythonly\"]\n",
    "example_words2 = [\"List\", \"listed\", \"lists\", \"listing\", \"listings\"]\n",
    "\n",
    "for w in example_words1:\n",
    "    print(ps.stem(w))\n",
    "\n",
    "for w in example_words2:\n",
    "    print(ps.stem(w))"
   ]
  },
  {
   "cell_type": "code",
   "execution_count": 2,
   "metadata": {},
   "outputs": [
    {
     "name": "stdout",
     "output_type": "stream",
     "text": [
      "['It', 'is', 'veri', 'import', 'to', 'be', 'pythonli', 'while', 'you', 'are', 'python', 'with', 'python', '.', 'all', 'python', 'have', 'python', 'poorli', 'at', 'least', 'onc', '.']\n"
     ]
    }
   ],
   "source": [
    "from nltk.stem import PorterStemmer\n",
    "from nltk.tokenize import word_tokenize\n",
    "\n",
    "ps = PorterStemmer()\n",
    "   \n",
    "new_text = \"\"\"It is very important to be pythonly while you are pythoning\n",
    "        with python. All pythoners have pythoned poorly at least once.\"\"\"\n",
    "\n",
    "words = word_tokenize(new_text)\n",
    "\n",
    "print([ps.stem(w) for w in words])"
   ]
  },
  {
   "cell_type": "markdown",
   "metadata": {},
   "source": [
    "## Stemmers --> LancasterStemmer"
   ]
  },
  {
   "cell_type": "code",
   "execution_count": 3,
   "metadata": {},
   "outputs": [
    {
     "name": "stdout",
     "output_type": "stream",
     "text": [
      "['denni', ':', 'listen', ',', 'strang', 'women', 'lie', 'in', 'pond', 'distribut', 'sword', 'is', 'no', 'basi', 'for', 'a', 'system', 'of', 'govern', '.', 'suprem', 'execut', 'power', 'deriv', 'from', 'a', 'mandat', 'from', 'the', 'mass', ',', 'not', 'from', 'some', 'farcic', 'aquat', 'ceremoni', '.']\n",
      "\n",
      "\n",
      "['den', ':', 'list', ',', 'strange', 'wom', 'lying', 'in', 'pond', 'distribut', 'sword', 'is', 'no', 'bas', 'for', 'a', 'system', 'of', 'govern', '.', 'suprem', 'execut', 'pow', 'der', 'from', 'a', 'mand', 'from', 'the', 'mass', ',', 'not', 'from', 'som', 'farc', 'aqu', 'ceremony', '.']\n"
     ]
    }
   ],
   "source": [
    "from nltk.stem import PorterStemmer, LancasterStemmer\n",
    "from nltk.tokenize import word_tokenize\n",
    "\n",
    "raw = \"\"\"DENNIS: Listen, strange women lying in ponds distributing swords\n",
    "    is no basis for a system of government.  Supreme executive power derives from\n",
    "    a mandate from the masses, not from some farcical aquatic ceremony.\"\"\"\n",
    "\n",
    "tokens = word_tokenize(raw)\n",
    "\n",
    "porter = PorterStemmer()\n",
    "lancaster = LancasterStemmer()\n",
    "\n",
    "print([porter.stem(t) for t in tokens])\n",
    "print(\"\\n\")\n",
    "print([lancaster.stem(t) for t in tokens])\n"
   ]
  },
  {
   "cell_type": "markdown",
   "metadata": {},
   "source": [
    "## Lemmatization --> WordNetLemmatizer"
   ]
  },
  {
   "cell_type": "code",
   "execution_count": 4,
   "metadata": {},
   "outputs": [
    {
     "name": "stdout",
     "output_type": "stream",
     "text": [
      "rocks : rock\n",
      "\n",
      "produced : produce\n",
      "\n",
      "Stem of the word produced : produc\n",
      "\n",
      "better : good\n",
      "\n",
      "women : woman\n"
     ]
    }
   ],
   "source": [
    "from nltk.stem import WordNetLemmatizer, PorterStemmer\n",
    "lemmatizer = WordNetLemmatizer() \n",
    "print(\"rocks :\", lemmatizer.lemmatize(\"rocks\")) \n",
    "print(\"\\nproduced :\", lemmatizer.lemmatize(\"produced\", pos =\"v\")) \n",
    "\n",
    "ps = PorterStemmer()\n",
    "print(\"\\nStem of the word produced :\", ps.stem(\"produced\")) \n",
    "\n",
    "print(\"\\nbetter :\", lemmatizer.lemmatize(\"better\", pos =\"a\")) \n",
    "\n",
    "print(\"\\nwomen :\", lemmatizer.lemmatize(\"women\", pos =\"n\")) "
   ]
  },
  {
   "cell_type": "code",
   "execution_count": 5,
   "metadata": {},
   "outputs": [
    {
     "name": "stdout",
     "output_type": "stream",
     "text": [
      "['DENNIS', ':', 'Listen', ',', 'strange', 'woman', 'lying', 'in', 'pond', 'distributing', 'sword', 'is', 'no', 'basis', 'for', 'a', 'system', 'of', 'government', '.', 'Supreme', 'executive', 'power', 'derives', 'from', 'a', 'mandate', 'from', 'the', 'mass', ',', 'not', 'from', 'some', 'farcical', 'aquatic', 'ceremony', '.']\n",
      "\n",
      "DENNIS              DENNIS              \n",
      ":                   :                   \n",
      "Listen              Listen              \n",
      ",                   ,                   \n",
      "strange             strange             \n",
      "women               women               \n",
      "lying               lie                 \n",
      "in                  in                  \n",
      "ponds               ponds               \n",
      "distributing        distribute          \n",
      "swords              swords              \n",
      "is                  be                  \n",
      "no                  no                  \n",
      "basis               basis               \n",
      "for                 for                 \n",
      "a                   a                   \n",
      "system              system              \n",
      "of                  of                  \n",
      "government          government          \n",
      ".                   .                   \n",
      "Supreme             Supreme             \n",
      "executive           executive           \n",
      "power               power               \n",
      "derives             derive              \n",
      "from                from                \n",
      "a                   a                   \n",
      "mandate             mandate             \n",
      "from                from                \n",
      "the                 the                 \n",
      "masses              mass                \n",
      ",                   ,                   \n",
      "not                 not                 \n",
      "from                from                \n",
      "some                some                \n",
      "farcical            farcical            \n",
      "aquatic             aquatic             \n",
      "ceremony            ceremony            \n",
      ".                   .                   \n",
      "\n",
      "['List', 'listed', 'list', 'listing', 'listing']\n",
      "\n",
      "List                List                \n",
      "listed              list                \n",
      "lists               list                \n",
      "listing             list                \n",
      "listings            list                \n"
     ]
    }
   ],
   "source": [
    "from nltk.stem import WordNetLemmatizer\n",
    "from nltk.tokenize import word_tokenize\n",
    "\n",
    "raw = \"\"\"DENNIS: Listen, strange women lying in ponds distributing swords\n",
    "    is no basis for a system of government.  Supreme executive power derives from\n",
    "    a mandate from the masses, not from some farcical aquatic ceremony.\"\"\"\n",
    "\n",
    "tokens = word_tokenize(raw)\n",
    "\n",
    "wnl = WordNetLemmatizer()\n",
    "print([wnl.lemmatize(t) for t in tokens])\n",
    "print()\n",
    "\n",
    "for t in tokens:\n",
    "    print (\"{0:20}{1:20}\".format(t, wnl.lemmatize(t, pos=\"v\")))\n",
    "print()\n",
    "example_words = [\"List\", \"listed\", \"lists\", \"listing\", \"listings\"]\n",
    "print([wnl.lemmatize(w) for w in example_words])\n",
    "print()\n",
    "for words in example_words:\n",
    "    print (\"{0:20}{1:20}\".format(words, wnl.lemmatize(words, pos=\"v\")))"
   ]
  },
  {
   "cell_type": "markdown",
   "metadata": {},
   "source": [
    "# Lemmatization using TextBlob"
   ]
  },
  {
   "cell_type": "code",
   "execution_count": 6,
   "metadata": {},
   "outputs": [
    {
     "name": "stdout",
     "output_type": "stream",
     "text": [
      "['DENNIS', 'Listen', 'strange', 'women', 'lying', 'in', 'ponds', 'distributing', 'swords', 'is', 'no', 'basis', 'for', 'a', 'system', 'of', 'government', 'Supreme', 'executive', 'power', 'derives', 'from', 'a', 'mandate', 'from', 'the', 'masses', 'not', 'from', 'some', 'farcical', 'aquatic', 'ceremony']\n",
      "\n",
      "DENNIS              DENNIS              \n",
      "Listen              Listen              \n",
      "strange             strange             \n",
      "women               women               \n",
      "lying               lie                 \n",
      "in                  in                  \n",
      "ponds               ponds               \n",
      "distributing        distribute          \n",
      "swords              swords              \n",
      "is                  be                  \n",
      "no                  no                  \n",
      "basis               basis               \n",
      "for                 for                 \n",
      "a                   a                   \n",
      "system              system              \n",
      "of                  of                  \n",
      "government          government          \n",
      "Supreme             Supreme             \n",
      "executive           executive           \n",
      "power               power               \n",
      "derives             derive              \n",
      "from                from                \n",
      "a                   a                   \n",
      "mandate             mandate             \n",
      "from                from                \n",
      "the                 the                 \n",
      "masses              mass                \n",
      "not                 not                 \n",
      "from                from                \n",
      "some                some                \n",
      "farcical            farcical            \n",
      "aquatic             aquatic             \n",
      "ceremony            ceremony            \n"
     ]
    }
   ],
   "source": [
    "from textblob import TextBlob\n",
    "sentence = TextBlob('DENNIS: Listen, strange women lying in ponds distributing swords is no basis for a system of government.  Supreme executive power derives from a mandate from the masses, not from some farcical aquatic ceremony.')\n",
    "tokens = sentence.words\n",
    "print(tokens)\n",
    "print\n",
    "tokens.lemmatize()\n",
    "print()\n",
    "\n",
    "for t in tokens:\n",
    "    print (\"{0:20}{1:20}\".format(t, wnl.lemmatize(t, pos=\"v\")))"
   ]
  },
  {
   "cell_type": "code",
   "execution_count": 7,
   "metadata": {},
   "outputs": [
    {
     "name": "stdout",
     "output_type": "stream",
     "text": [
      "['List', 'listed', 'lists', 'listing', 'listings']\n",
      "\n",
      "List                List                \n",
      "listed              list                \n",
      "lists               list                \n",
      "listing             list                \n",
      "listings            list                \n"
     ]
    }
   ],
   "source": [
    "from textblob import TextBlob\n",
    "text = TextBlob(\"List listed lists listing listings\")\n",
    "tokens = text.words\n",
    "print(tokens)\n",
    "tokens.lemmatize()\n",
    "print()\n",
    "for t in tokens:\n",
    "    print (\"{0:20}{1:20}\".format(t, wnl.lemmatize(t, pos=\"v\")))"
   ]
  },
  {
   "cell_type": "markdown",
   "metadata": {},
   "source": [
    "# Stemming & Lemmatization"
   ]
  },
  {
   "cell_type": "markdown",
   "metadata": {},
   "source": [
    "### Stemming and Lemmatization both generate the root form of the inflected words. The difference is that stem might not be an actual word whereas, lemma is an actual language word."
   ]
  },
  {
   "cell_type": "code",
   "execution_count": 8,
   "metadata": {},
   "outputs": [
    {
     "name": "stdout",
     "output_type": "stream",
     "text": [
      "dennis: listen, strange women lying in ponds distributing swords\n",
      "    is no basis for a system of government.  supreme executive power derives from\n",
      "    a mandate from the masses, not from some farcical aquatic ceremony.\n",
      "\n",
      "Tokens\n",
      "['dennis', ':', 'listen', ',', 'strange', 'women', 'lying', 'in', 'ponds', 'distributing', 'swords', 'is', 'no', 'basis', 'for', 'a', 'system', 'of', 'government', '.', 'supreme', 'executive', 'power', 'derives', 'from', 'a', 'mandate', 'from', 'the', 'masses', ',', 'not', 'from', 'some', 'farcical', 'aquatic', 'ceremony', '.']\n",
      "\n",
      "Lemmas\n",
      "['dennis', ':', 'listen', ',', 'strange', 'women', 'lie', 'in', 'ponds', 'distribute', 'swords', 'be', 'no', 'basis', 'for', 'a', 'system', 'of', 'government', '.', 'supreme', 'executive', 'power', 'derive', 'from', 'a', 'mandate', 'from', 'the', 'mass', ',', 'not', 'from', 'some', 'farcical', 'aquatic', 'ceremony', '.']\n",
      "\n",
      "Porter Stemming\n",
      "['denni', ':', 'listen', ',', 'strang', 'women', 'lie', 'in', 'pond', 'distribut', 'sword', 'is', 'no', 'basi', 'for', 'a', 'system', 'of', 'govern', '.', 'suprem', 'execut', 'power', 'deriv', 'from', 'a', 'mandat', 'from', 'the', 'mass', ',', 'not', 'from', 'some', 'farcic', 'aquat', 'ceremoni', '.']\n",
      "\n",
      "Lancaster Stemming\n",
      "['den', ':', 'list', ',', 'strange', 'wom', 'lying', 'in', 'pond', 'distribut', 'sword', 'is', 'no', 'bas', 'for', 'a', 'system', 'of', 'govern', '.', 'suprem', 'execut', 'pow', 'der', 'from', 'a', 'mand', 'from', 'the', 'mass', ',', 'not', 'from', 'som', 'farc', 'aqu', 'ceremony', '.']\n",
      "\n",
      "Snowball Stemming\n",
      "['denni', ':', 'listen', ',', 'strang', 'women', 'lie', 'in', 'pond', 'distribut', 'sword', 'is', 'no', 'basi', 'for', 'a', 'system', 'of', 'govern', '.', 'suprem', 'execut', 'power', 'deriv', 'from', 'a', 'mandat', 'from', 'the', 'mass', ',', 'not', 'from', 'some', 'farcic', 'aquat', 'ceremoni', '.']\n"
     ]
    }
   ],
   "source": [
    "import nltk\n",
    "from nltk.stem import PorterStemmer\n",
    "from nltk.stem import LancasterStemmer\n",
    "from nltk.tokenize import word_tokenize\n",
    "from nltk.stem.snowball import SnowballStemmer\n",
    "\n",
    "#file = open (\"D:/APU/TXSA-CT107-3-3/TUTORIAL/sample01.txt\")\n",
    "#raw = file.read()\n",
    "\n",
    "\n",
    "raw = \"\"\"DENNIS: Listen, strange women lying in ponds distributing swords\n",
    "    is no basis for a system of government.  Supreme executive power derives from\n",
    "    a mandate from the masses, not from some farcical aquatic ceremony.\"\"\"\n",
    "\n",
    "words = raw.lower()\n",
    "print(words)\n",
    "print()\n",
    "tokens = word_tokenize(words)\n",
    "print(\"Tokens\")\n",
    "print(tokens)\n",
    "print()\n",
    "print(\"Lemmas\")\n",
    "wnl = nltk.WordNetLemmatizer()\n",
    "print([wnl.lemmatize(t, pos = \"v\") for t in tokens])\n",
    "print()\n",
    "print(\"Porter Stemming\")\n",
    "ps = PorterStemmer()\n",
    "print ([ps.stem(t) for t in tokens])\n",
    "print()\n",
    "print(\"Lancaster Stemming\")\n",
    "ls = LancasterStemmer()\n",
    "print ([ls.stem(t) for t in tokens])\n",
    "print()\n",
    "print(\"Snowball Stemming\")\n",
    "sn = nltk.SnowballStemmer(\"english\")\n",
    "print([sn.stem(t) for t in tokens])"
   ]
  },
  {
   "cell_type": "markdown",
   "metadata": {},
   "source": [
    "# Stemmers --> SnowballStemmer"
   ]
  },
  {
   "cell_type": "code",
   "execution_count": 9,
   "metadata": {},
   "outputs": [
    {
     "name": "stdout",
     "output_type": "stream",
     "text": [
      "('danish', 'dutch', 'english', 'finnish', 'french', 'german', 'hungarian', 'italian', 'norwegian', 'porter', 'portuguese', 'romanian', 'russian', 'spanish', 'swedish')\n",
      "15\n",
      "\n",
      "\n",
      "['this', 'is', 'achiev', 'in', 'practic', 'dure', 'stem', ',', 'a', 'text', 'preprocess', 'oper', '.']\n",
      "\n",
      "\n",
      "['cec', 'est', 'réalis', 'en', 'pratiqu', 'lor', 'du', 'stemming', ',', 'une', 'oper', 'de', 'prétrait', 'de', 'text', '.']\n"
     ]
    }
   ],
   "source": [
    "import nltk\n",
    "print(nltk.SnowballStemmer.languages)\n",
    "print(len(nltk.SnowballStemmer.languages))\n",
    "print()\n",
    "text = \"This is achieved in practice during stemming, a text preprocessing operation.\"\n",
    "tokens = nltk.tokenize.word_tokenize(text)\n",
    "print()\n",
    "stemmer = nltk.SnowballStemmer('english')\n",
    "print([stemmer.stem(t) for t in tokens])\n",
    "print()\n",
    "text2 = \"Ceci est réalisé en pratique lors du stemming, une opération de prétraitement de texte.\"\n",
    "tokens2 = nltk.tokenize.word_tokenize(text2)\n",
    "print()\n",
    "stemmer = nltk.SnowballStemmer('french')\n",
    "print([stemmer.stem(t) for t in tokens2])"
   ]
  },
  {
   "cell_type": "markdown",
   "metadata": {},
   "source": [
    "## SnowballStemmer --> for other space delimited languages\n"
   ]
  },
  {
   "cell_type": "code",
   "execution_count": 10,
   "metadata": {},
   "outputs": [
    {
     "name": "stdout",
     "output_type": "stream",
     "text": [
      "en\n",
      "Ceci est réalisé en pratique lors du stemming, une opération de prétraitement de texte.\n",
      "['Ceci', 'est', 'réalisé', 'en', 'pratique', 'lors', 'du', 'stemming', 'une', 'opération', 'de', 'prétraitement', 'de', 'texte']\n",
      "\n",
      "['cec', 'est', 'réalis', 'en', 'pratiqu', 'lor', 'du', 'stemming', 'une', 'oper', 'de', 'prétrait', 'de', 'text']\n"
     ]
    }
   ],
   "source": [
    "from textblob import TextBlob\n",
    "import nltk\n",
    "en_blob = TextBlob(u'This is achieved in practice during stemming, a text preprocessing operation.')\n",
    "print(en_blob.detect_language())\n",
    "fr_blob = en_blob.translate(from_lang=\"en\", to='fr')\n",
    "print(fr_blob)\n",
    "tokens = fr_blob.words\n",
    "print(tokens)\n",
    "print()\n",
    "stemmer = nltk.SnowballStemmer('french')\n",
    "print([stemmer.stem(t) for t in tokens])"
   ]
  }
 ],
 "metadata": {
  "kernelspec": {
   "display_name": "Python 3",
   "language": "python",
   "name": "python3"
  },
  "language_info": {
   "codemirror_mode": {
    "name": "ipython",
    "version": 3
   },
   "file_extension": ".py",
   "mimetype": "text/x-python",
   "name": "python",
   "nbconvert_exporter": "python",
   "pygments_lexer": "ipython3",
   "version": "3.8.8"
  }
 },
 "nbformat": 4,
 "nbformat_minor": 2
}
