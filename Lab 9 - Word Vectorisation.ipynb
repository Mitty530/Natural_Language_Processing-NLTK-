{
 "cells": [
  {
   "cell_type": "markdown",
   "metadata": {},
   "source": [
    "### Vectorisation  \n",
    "\n",
    "Word Embeddings or Word vectorization is a methodology in NLP to map words or \n",
    "phrases from vocabulary to a corresponding vector of real numbers which used \n",
    "to find word predictions, word similarities/semantics. \n",
    "\n",
    "The process of converting words into numbers are called Vectorization.\n"
   ]
  },
  {
   "cell_type": "code",
   "execution_count": 1,
   "metadata": {},
   "outputs": [
    {
     "name": "stdout",
     "output_type": "stream",
     "text": [
      "\n",
      "Text:  ['problem of evil', 'evil queen', 'horizon problem']\n",
      "~~~~~~~~~~~~~~~~~~~~~~~~~~~~~~~~~~~~~~~~~~~~~~~~~~~~~~~~~~~ \n"
     ]
    }
   ],
   "source": [
    "sample = ['problem of evil', 'evil queen', 'horizon problem']\n",
    "print(\"\\nText: \", sample)\n",
    "print(\"~~~~~~~~~~~~~~~~~~~~~~~~~~~~~~~~~~~~~~~~~~~~~~~~~~~~~~~~~~~ \")"
   ]
  },
  {
   "cell_type": "code",
   "execution_count": 2,
   "metadata": {},
   "outputs": [
    {
     "name": "stdout",
     "output_type": "stream",
     "text": [
      "\n",
      "Count Vectorizer ~~~~~~~~~~~~~~~~~~~~~~~~~~~~~~~~~~~~~~~~~~~~~~~~~~~~\n",
      "\n",
      "Vocabulary: \n",
      " {'problem': 3, 'of': 2, 'evil': 0, 'queen': 4, 'horizon': 1}\n",
      "\n",
      " [[1 0 1 1 0]\n",
      " [1 0 0 0 1]\n",
      " [0 1 0 1 0]]\n"
     ]
    }
   ],
   "source": [
    "# Count Vectorizer ~~~~~~~~~~~~~~~~~~~~~~~~~~~~~~~~~~~~~~~~~~~~~~~~~~~~~~~~~~~~\n",
    "print(\"\\nCount Vectorizer ~~~~~~~~~~~~~~~~~~~~~~~~~~~~~~~~~~~~~~~~~~~~~~~~~~~~\")\n",
    "\n",
    "from sklearn.feature_extraction.text import CountVectorizer\n",
    "count_vectorizer  = CountVectorizer()\n",
    "# count_vectorizer  = CountVectorizer(lowercase=True, stop_words='english')\n",
    "\n",
    "count_vectorizer.fit(sample)\n",
    "print('\\nVocabulary: \\n', count_vectorizer.vocabulary_)\n",
    "\n",
    "X_train_counts = count_vectorizer.fit_transform(sample).toarray()\n",
    "print(\"\\n\", X_train_counts)"
   ]
  },
  {
   "cell_type": "code",
   "execution_count": 3,
   "metadata": {},
   "outputs": [
    {
     "name": "stdout",
     "output_type": "stream",
     "text": [
      "\n",
      "Tfidf Vectorizer ~~~~~~~~~~~~~~~~~~~~~~~~~~~~~~~~~~~~~~~~~~~~~~~~~~~~\n",
      "\n",
      "Vocabulary: \n",
      " {'problem': 3, 'of': 2, 'evil': 0, 'queen': 4, 'horizon': 1}\n",
      "\n",
      "   (0, 3)\t0.5178561161676974\n",
      "  (0, 2)\t0.680918560398684\n",
      "  (0, 0)\t0.5178561161676974\n",
      "  (1, 0)\t0.6053485081062916\n",
      "  (1, 4)\t0.7959605415681652\n",
      "  (2, 3)\t0.6053485081062916\n",
      "  (2, 1)\t0.7959605415681652\n"
     ]
    }
   ],
   "source": [
    "# Tfidf Vectorizer ~~~~~~~~~~~~~~~~~~~~~~~~~~~~~~~~~~~~~~~~~~~~~~~~~~~~~~~~~~~~\n",
    "print(\"\\nTfidf Vectorizer ~~~~~~~~~~~~~~~~~~~~~~~~~~~~~~~~~~~~~~~~~~~~~~~~~~~~\")\n",
    "\n",
    "from sklearn.feature_extraction.text import TfidfVectorizer\n",
    "TFIDF_vectorizer = TfidfVectorizer()\n",
    "# TFIDF_vectorizer = TfidfVectorizer(lowercase=True, stop_words='english')\n",
    "\n",
    "TFIDF_vectorizer.fit(sample)\n",
    "print('\\nVocabulary: \\n', TFIDF_vectorizer.vocabulary_)\n",
    "\n",
    "X = TFIDF_vectorizer.fit_transform(sample)\n",
    "print(\"\\n\", X)"
   ]
  },
  {
   "cell_type": "markdown",
   "metadata": {},
   "source": [
    "### Online Sources\n",
    "https://datascience.stackexchange.com/questions/25581/what-is-the-difference-between-countvectorizer-token-counts-and-tfidftransformer\n",
    "https://towardsdatascience.com/natural-language-processing-count-vectorization-with-scikit-learn-e7804269bb5e"
   ]
  }
 ],
 "metadata": {
  "kernelspec": {
   "display_name": "Python 3",
   "language": "python",
   "name": "python3"
  },
  "language_info": {
   "codemirror_mode": {
    "name": "ipython",
    "version": 3
   },
   "file_extension": ".py",
   "mimetype": "text/x-python",
   "name": "python",
   "nbconvert_exporter": "python",
   "pygments_lexer": "ipython3",
   "version": "3.7.3"
  }
 },
 "nbformat": 4,
 "nbformat_minor": 2
}
