{
 "cells": [
  {
   "cell_type": "code",
   "execution_count": 1,
   "metadata": {},
   "outputs": [
    {
     "name": "stdout",
     "output_type": "stream",
     "text": [
      "                                            Opinions Sentiment\n",
      "0                                       Personal sms  Positive\n",
      "1  Banners at high density population locations l...  Positive\n",
      "2                     Opportunity to receive bonuses  Positive\n",
      "3                          Street advertising boards  Positive\n",
      "4                                    Black happines   Negative\n"
     ]
    }
   ],
   "source": [
    "import pandas as pd\n",
    "import matplotlib.pyplot as plt\n",
    "from sklearn.model_selection import train_test_split\n",
    "\n",
    "# Load the dataset\n",
    "data = pd.read_csv('D:/APU/TXSA-CT107-3-3/LAB/LAB 8/opinion_dataset.csv')\n",
    "print(data.head())"
   ]
  },
  {
   "cell_type": "code",
   "execution_count": 2,
   "metadata": {},
   "outputs": [
    {
     "name": "stdout",
     "output_type": "stream",
     "text": [
      "\n",
      "Target value counts ~~~~~~~~\n",
      "Positive    87\n",
      "Negative    13\n",
      "Name: Sentiment, dtype: int64\n",
      "\n",
      "Target value visualisation ~~~~~~~~\n"
     ]
    },
    {
     "data": {
      "image/png": "[encoded data removed]",
      "text/plain": [
       "<Figure size 432x288 with 1 Axes>"
      ]
     },
     "metadata": {
      "needs_background": "light"
     },
     "output_type": "display_data"
    },
    {
     "data": {
      "text/plain": [
       "array(['Positive', 'Positive', 'Positive', 'Positive', 'Negative',\n",
       "       'Positive', 'Positive', 'Positive', 'Positive', 'Positive',\n",
       "       'Positive', 'Negative', 'Positive', 'Negative', 'Positive',\n",
       "       'Negative', 'Negative', 'Positive', 'Positive', 'Positive',\n",
       "       'Positive', 'Positive', 'Positive', 'Positive', 'Positive',\n",
       "       'Positive', 'Positive', 'Positive', 'Positive', 'Positive',\n",
       "       'Positive', 'Positive', 'Positive', 'Negative', 'Positive',\n",
       "       'Positive', 'Positive', 'Positive', 'Positive', 'Positive',\n",
       "       'Positive', 'Positive', 'Positive', 'Positive', 'Positive',\n",
       "       'Positive', 'Positive', 'Positive', 'Positive', 'Positive',\n",
       "       'Positive', 'Positive', 'Positive', 'Positive', 'Positive',\n",
       "       'Positive', 'Positive', 'Positive', 'Positive', 'Negative',\n",
       "       'Positive', 'Negative', 'Positive', 'Positive', 'Positive',\n",
       "       'Negative', 'Positive', 'Negative', 'Negative', 'Positive',\n",
       "       'Negative', 'Positive', 'Positive', 'Positive', 'Positive',\n",
       "       'Positive', 'Positive', 'Positive', 'Positive', 'Positive',\n",
       "       'Positive', 'Positive', 'Positive', 'Negative', 'Positive',\n",
       "       'Positive', 'Positive', 'Positive', 'Positive', 'Positive',\n",
       "       'Positive', 'Positive', 'Positive', 'Positive', 'Positive',\n",
       "       'Positive', 'Positive', 'Positive', 'Positive', 'Positive'],\n",
       "      dtype=object)"
      ]
     },
     "execution_count": 2,
     "metadata": {},
     "output_type": "execute_result"
    }
   ],
   "source": [
    "# Target variable visualisation\n",
    "print(\"\\nTarget value counts ~~~~~~~~\")\n",
    "print(data['Sentiment'].value_counts())\n",
    "print(\"\\nTarget value visualisation ~~~~~~~~\")\n",
    "Sentiment_count=data.groupby('Sentiment').count()\n",
    "plt.bar(Sentiment_count.index.values, Sentiment_count['Opinions'], color=('r','g'))\n",
    "plt.xlabel('Review Sentiments')\n",
    "plt.ylabel('Number of Review')\n",
    "plt.show()\n",
    "\n",
    "X = data['Opinions'].values\n",
    "X\n",
    "y = data['Sentiment'].values\n",
    "y"
   ]
  },
  {
   "cell_type": "code",
   "execution_count": 3,
   "metadata": {},
   "outputs": [],
   "source": [
    "# Count Vectorization\n",
    "from sklearn.feature_extraction.text import CountVectorizer\n",
    "from nltk.tokenize import RegexpTokenizer\n",
    "#tokenizer to remove unwanted elements from out data like symbols and numbers\n",
    "token = RegexpTokenizer(r'[a-zA-Z0-9]+')\n",
    "cv = CountVectorizer(lowercase=True,stop_words='english',ngram_range = (1,1), tokenizer = token.tokenize)\n",
    "text_counts= cv.fit_transform(data['Opinions'])"
   ]
  },
  {
   "cell_type": "code",
   "execution_count": 4,
   "metadata": {},
   "outputs": [],
   "source": [
    "# Data split\n",
    "X_train, X_test, y_train, y_test = train_test_split(\n",
    "    text_counts, data['Sentiment'], test_size=0.3, random_state=1)"
   ]
  },
  {
   "cell_type": "code",
   "execution_count": 5,
   "metadata": {},
   "outputs": [
    {
     "name": "stdout",
     "output_type": "stream",
     "text": [
      "Accuracy of MNB Classifier: 0.9\n",
      "\n",
      "Classification Report:\n",
      "               precision    recall  f1-score   support\n",
      "\n",
      "    Negative       0.00      0.00      0.00         2\n",
      "    Positive       0.93      0.96      0.95        28\n",
      "\n",
      "    accuracy                           0.90        30\n",
      "   macro avg       0.47      0.48      0.47        30\n",
      "weighted avg       0.87      0.90      0.88        30\n",
      "\n"
     ]
    }
   ],
   "source": [
    "# MultinomialNB from Sklearn\n",
    "from sklearn.naive_bayes import MultinomialNB\n",
    "from sklearn import metrics\n",
    "MNB_classifier = MultinomialNB().fit(X_train, y_train)\n",
    "predicted_MNB = MNB_classifier.predict(X_test)\n",
    "print(\"Accuracy of MNB Classifier:\", metrics.accuracy_score(y_test, predicted_MNB))\n",
    "print(\"\\nClassification Report:\\n\", metrics.classification_report(y_test, predicted_MNB))"
   ]
  },
  {
   "cell_type": "code",
   "execution_count": 6,
   "metadata": {},
   "outputs": [
    {
     "name": "stdout",
     "output_type": "stream",
     "text": [
      "~~~~~~~~ Confusion Matrix ~~~~~~~~\n",
      "[[ 0  2]\n",
      " [ 1 27]]\n"
     ]
    }
   ],
   "source": [
    "#  Confusion Matrix for MultinomialNB\n",
    "from sklearn.metrics import confusion_matrix\n",
    "CM = confusion_matrix(y_test, predicted_MNB)\n",
    "print(\"~~~~~~~~ Confusion Matrix ~~~~~~~~\")\n",
    "print(CM)"
   ]
  },
  {
   "cell_type": "code",
   "execution_count": 7,
   "metadata": {},
   "outputs": [
    {
     "name": "stdout",
     "output_type": "stream",
     "text": [
      "\n",
      "~~~~~~~~ Cross Validation using cross_validate function ~~~~~~~~\n",
      "Accuracy: 0.79\n"
     ]
    }
   ],
   "source": [
    "# ~~~~~~~~~~~~~~~ CROSS VALIDATION ~~~~~~~~~~~~~~~\n",
    "print(\"\\n~~~~~~~~ Cross Validation using cross_validate function ~~~~~~~~\")\n",
    "from sklearn.model_selection import cross_validate\n",
    "MNB_classifier_CV1 = MultinomialNB().fit(X_train, y_train)\n",
    "cv_score_1 = cross_validate(MNB_classifier_CV1, X_train, y_train, cv=5)\n",
    "sorted(cv_score_1.keys())\n",
    "cv_score_1['test_score']\n",
    "print(\"Accuracy: %0.2f\" % (cv_score_1['test_score'].mean()))"
   ]
  },
  {
   "cell_type": "code",
   "execution_count": 8,
   "metadata": {},
   "outputs": [
    {
     "name": "stdout",
     "output_type": "stream",
     "text": [
      "\n",
      "~~~~~~~~ Cross Validation using cross_val_score function ~~~~~~~~\n",
      "Accuracy: 0.79\n"
     ]
    }
   ],
   "source": [
    "print(\"\\n~~~~~~~~ Cross Validation using cross_val_score function ~~~~~~~~\")    \n",
    "from sklearn.model_selection import cross_val_score\n",
    "MNB_classifier_CV2 = MultinomialNB().fit(X_train, y_train)\n",
    "cv_score_2 = cross_val_score(MNB_classifier_CV2, X_train, y_train, cv=5)\n",
    "print(\"Accuracy: %0.2f\" % (cv_score_2.mean()))"
   ]
  }
 ],
 "metadata": {
  "kernelspec": {
   "display_name": "Python 3",
   "language": "python",
   "name": "python3"
  },
  "language_info": {
   "codemirror_mode": {
    "name": "ipython",
    "version": 3
   },
   "file_extension": ".py",
   "mimetype": "text/x-python",
   "name": "python",
   "nbconvert_exporter": "python",
   "pygments_lexer": "ipython3",
   "version": "3.7.3"
  }
 },
 "nbformat": 4,
 "nbformat_minor": 2
}
